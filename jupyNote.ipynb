{
 "cells": [
  {
   "cell_type": "code",
   "execution_count": 11,
   "id": "2cc977c5",
   "metadata": {},
   "outputs": [
    {
     "data": {
      "text/html": [
       "<pre style=\"word-wrap: normal;white-space: pre;background: #fff0;line-height: 1.1;font-family: &quot;Courier New&quot;,Courier,monospace\">               ┌─┐   \n",
       "q_0: ───────■──┤M├───\n",
       "     ┌───┐┌─┴─┐└╥┘┌─┐\n",
       "q_1: ┤ H ├┤ X ├─╫─┤M├\n",
       "     └───┘└───┘ ║ └╥┘\n",
       "c: 2/═══════════╩══╩═\n",
       "                0  1 </pre>"
      ],
      "text/plain": [
       "               ┌─┐   \n",
       "q_0: ───────■──┤M├───\n",
       "     ┌───┐┌─┴─┐└╥┘┌─┐\n",
       "q_1: ┤ H ├┤ X ├─╫─┤M├\n",
       "     └───┘└───┘ ║ └╥┘\n",
       "c: 2/═══════════╩══╩═\n",
       "                0  1 "
      ]
     },
     "execution_count": 11,
     "metadata": {},
     "output_type": "execute_result"
    }
   ],
   "source": [
    "from qiskit import QuantumCircuit\n",
    "\n",
    "# Create a basic Bell State circuit:\n",
    "qc = QuantumCircuit(2, 2)\n",
    "qc.h(1)\n",
    "qc.cx(0, 1)\n",
    "qc.measure([0, 1], [0, 1])\n",
    "\n",
    "qc.draw()"
   ]
  },
  {
   "cell_type": "markdown",
   "id": "b6422af6",
   "metadata": {},
   "source": [
    "wjdhxkwjidhwkdcjnweiklo"
   ]
  },
  {
   "cell_type": "code",
   "execution_count": null,
   "id": "418b0e1b",
   "metadata": {},
   "outputs": [],
   "source": []
  }
 ],
 "metadata": {
  "kernelspec": {
   "display_name": "cwq",
   "language": "python",
   "name": "python3"
  },
  "language_info": {
   "codemirror_mode": {
    "name": "ipython",
    "version": 3
   },
   "file_extension": ".py",
   "mimetype": "text/x-python",
   "name": "python",
   "nbconvert_exporter": "python",
   "pygments_lexer": "ipython3",
   "version": "3.13.5"
  }
 },
 "nbformat": 4,
 "nbformat_minor": 5
}
