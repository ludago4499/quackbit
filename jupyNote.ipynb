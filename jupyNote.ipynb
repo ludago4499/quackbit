{
 "cells": [
  {
   "cell_type": "code",
   "execution_count": null,
   "id": "2cc977c5",
   "metadata": {},
   "outputs": [
    {
     "data": {
      "text/html": [
       "<pre style=\"word-wrap: normal;white-space: pre;background: #fff0;line-height: 1.1;font-family: &quot;Courier New&quot;,Courier,monospace\">     ┌───┐┌─┐\n",
       "  q: ┤ X ├┤M├\n",
       "     └───┘└╥┘\n",
       "c: 1/══════╩═\n",
       "           0 </pre>"
      ],
      "text/plain": [
       "     ┌───┐┌─┐\n",
       "  q: ┤ X ├┤M├\n",
       "     └───┘└╥┘\n",
       "c: 1/══════╩═\n",
       "           0 "
      ]
     },
     "execution_count": 7,
     "metadata": {},
     "output_type": "execute_result"
    }
   ],
   "source": [
    "from qiskit import QuantumCircuit\n",
    "from qiskit_aer import AerSimulator\n",
    "from random import randrange\n",
    "\n",
    "counts = {}\n",
    "\n",
    "simulator = AerSimulator()\n",
    "\n",
    "for _ in range(100):\n",
    "    quack = QuantumCircuit(8, 8)\n",
    "    for i in range(8):\n",
    "        if randrange(2) == 1:\n",
    "            quack.x(i)\n",
    "    quack.measure(range(8), range(8))\n",
    "    job = simulator.run(quack, shots=1)\n",
    "    result = job.result().get_counts(quack)\n",
    "    # Accumulate results\n",
    "    for key, value in result.items():\n",
    "        counts[key] = counts.get(key, 0) + value\n",
    "\n",
    "print(counts)\n",
    "\n",
    "from qiskit.visualization import plot_histogram\n",
    "plot_histogram(counts)"
   ]
  },
  {
   "cell_type": "markdown",
   "id": "b6422af6",
   "metadata": {},
   "source": []
  },
  {
   "cell_type": "code",
   "execution_count": null,
   "id": "418b0e1b",
   "metadata": {},
   "outputs": [],
   "source": []
  }
 ],
 "metadata": {
  "kernelspec": {
   "display_name": "cwq",
   "language": "python",
   "name": "python3"
  },
  "language_info": {
   "codemirror_mode": {
    "name": "ipython",
    "version": 3
   },
   "file_extension": ".py",
   "mimetype": "text/x-python",
   "name": "python",
   "nbconvert_exporter": "python",
   "pygments_lexer": "ipython3",
   "version": "3.13.5"
  }
 },
 "nbformat": 4,
 "nbformat_minor": 5
}
