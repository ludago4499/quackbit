{
 "cells": [
  {
   "cell_type": "markdown",
   "id": "518068ad",
   "metadata": {},
   "source": [
    "![alt text](image.png)"
   ]
  },
  {
   "cell_type": "code",
   "execution_count": null,
   "id": "709efef3",
   "metadata": {},
   "outputs": [
    {
     "name": "stdout",
     "output_type": "stream",
     "text": [
      "The tension in the string is: 8.01 N\n",
      "The velocity of the mass is: 2.45 m/s\n",
      "The acceleration of the mass is: 12.01 m/s^2\n",
      "The period of the motion is: 1.28 s\n",
      "The total mechanical energy is: 0.97 J\n"
     ]
    }
   ],
   "source": [
    "m = 1 # kg\n",
    "theta = 15 # degrees\n",
    "l = 0.5 # m\n",
    "g = 9.81 # m/s^2\n",
    "time = 0 # seconds\n",
    "\n",
    "\n",
    "import math\n",
    "def calculate_tension(m, theta, l, g):\n",
    "    theta_rad = math.radians(theta)\n",
    "    T = m * g / (math.cos(theta_rad) + (m * g * math.sin(theta_rad)) / (m * g))\n",
    "    return T\n",
    "\n",
    "T = calculate_tension(m, theta, l, g)\n",
    "print(f\"The tension in the string is: {T:.2f} N\")\n",
    "def calculate_velocity(m, theta, l, g):\n",
    "    theta_rad = math.radians(theta)\n",
    "    v = math.sqrt(g * l * (math.sin(theta_rad) + (m * g * math.cos(theta_rad)) / (m * g)))\n",
    "    return v\n",
    "\n",
    "v = calculate_velocity(m, theta, l, g)\n",
    "print(f\"The velocity of the mass is: {v:.2f} m/s\")\n",
    "def calculate_acceleration(m, theta, l, g):\n",
    "    theta_rad = math.radians(theta)\n",
    "    a = g * (math.sin(theta_rad) + (m * g * math.cos(theta_rad)) / (m * g))\n",
    "    return a\n",
    "a = calculate_acceleration(m, theta, l, g)\n",
    "print(f\"The acceleration of the mass is: {a:.2f} m/s^2\")\n",
    "def calculate_period(m, theta, l, g):\n",
    "    theta_rad = math.radians(theta)\n",
    "    T_period = 2 * math.pi * math.sqrt(l / (g * (math.sin(theta_rad) + (m * g * math.cos(theta_rad)) / (m * g))))\n",
    "    return T_period\n",
    "T_period = calculate_period(m, theta, l, g)\n",
    "print(f\"The period of the motion is: {T_period:.2f} s\")\n",
    "def calculate_energy(m, theta, l, g):\n",
    "    theta_rad = math.radians(theta)\n",
    "    potential_energy = m * g * l * (1 - math.cos(theta_rad))\n",
    "    kinetic_energy = 0.5 * m * (g * l * math.sin(theta_rad))**2\n",
    "    total_energy = potential_energy + kinetic_energy\n",
    "    return total_energy\n",
    "total_energy = calculate_energy(m, theta, l, g)\n",
    "print(f\"The total mechanical energy is: {total_energy:.2f} J\")\n"
   ]
  },
  {
   "cell_type": "markdown",
   "id": "06a2808b",
   "metadata": {},
   "source": [
    "# Solución con qiskit\n"
   ]
  },
  {
   "cell_type": "code",
   "execution_count": null,
   "id": "5f3a691f",
   "metadata": {},
   "outputs": [
    {
     "data": {
      "image/png": "[encoded data removed]",
      "text/plain": [
       "<Figure size 640x480 with 1 Axes>"
      ]
     },
     "execution_count": 8,
     "metadata": {},
     "output_type": "execute_result"
    }
   ],
   "source": [
    "from qiskit import QuantumCircuit\n",
    "from qiskit_aer import AerSimulator\n",
    "from qiskit.visualization import plot_histogram\n",
    "import matplotlib.pyplot as plt\n",
    "\n",
    "# Start simulator\n",
    "\n",
    "simulator = AerSimulator()\n",
    "# Encode |0> as logical 0: |000>\n",
    "qc = QuantumCircuit(3, 1)\n",
    "qc.barrier()\n",
    "\n",
    "# Simulate a bit-flip error on the second qubit (pendulum perturbed)\n",
    "qc.x(1)\n",
    "qc.barrier()\n",
    "\n",
    "# Error correction: majority vote (bit-flip code)\n",
    "qc.cx(0,2)\n",
    "qc.cx(1,2)\n",
    "qc.ccx(0,1,2)\n",
    "qc.barrier()\n",
    "\n",
    "# Decode: measure the majority vote\n",
    "qc.measure(2, 0)\n",
    "\n",
    "qc.draw('mpl',reverse_bits=True)"
   ]
  },
  {
   "cell_type": "code",
   "execution_count": null,
   "id": "b51e01e1",
   "metadata": {},
   "outputs": [],
   "source": [
    "\n",
    "# Simulate\n",
    "\n",
    "job = simulator.run(qc, shots=1000)\n",
    "result = job.result().get_counts(qc)\n",
    "result = job.result()\n",
    "counts = result.get_counts()\n",
    "\n",
    "plot_histogram(counts)"
   ]
  }
 ],
 "metadata": {
  "kernelspec": {
   "display_name": "cwq",
   "language": "python",
   "name": "python3"
  },
  "language_info": {
   "codemirror_mode": {
    "name": "ipython",
    "version": 3
   },
   "file_extension": ".py",
   "mimetype": "text/x-python",
   "name": "python",
   "nbconvert_exporter": "python",
   "pygments_lexer": "ipython3",
   "version": "3.13.5"
  }
 },
 "nbformat": 4,
 "nbformat_minor": 5
}
