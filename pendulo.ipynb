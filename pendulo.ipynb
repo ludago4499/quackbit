{
 "cells": [
  {
   "cell_type": "markdown",
   "id": "518068ad",
   "metadata": {},
   "source": [
    "![alt text](image.png)"
   ]
  },
  {
   "cell_type": "code",
   "execution_count": null,
   "id": "709efef3",
   "metadata": {},
   "outputs": [],
   "source": [
    "m = 1 # kg\n",
    "theta = 15 # degrees\n",
    "l = 0.5 # m\n",
    "g = 9.81 # m/s^2\n",
    "\n",
    "import math\n",
    "def calculate_tension(m, theta, l, g):\n",
    "    theta_rad = math.radians(theta)\n",
    "    T = m * g / (math.cos(theta_rad) + (m * g * math.sin(theta_rad)) / (m * g))\n",
    "    return T\n",
    "\n",
    "T = calculate_tension(m, theta, l, g)\n",
    "print(f\"The tension in the string is: {T:.2f} N\")\n",
    "def calculate_velocity(m, theta, l, g):\n",
    "    theta_rad = math.radians(theta)\n",
    "    v = math.sqrt(g * l * (math.sin(theta_rad) + (m * g * math.cos(theta_rad)) / (m * g)))\n",
    "    return v\n",
    "\n",
    "v = calculate_velocity(m, theta, l, g)\n",
    "print(f\"The velocity of the mass is: {v:.2f} m/s\")\n",
    "def calculate_acceleration(m, theta, l, g):\n",
    "    theta_rad = math.radians(theta)\n",
    "    a = g * (math.sin(theta_rad) + (m * g * math.cos(theta_rad)) / (m * g))\n",
    "    return a\n",
    "a = calculate_acceleration(m, theta, l, g)\n",
    "print(f\"The acceleration of the mass is: {a:.2f} m/s^2\")\n",
    "def calculate_period(m, theta, l, g):\n",
    "    theta_rad = math.radians(theta)\n",
    "    T_period = 2 * math.pi * math.sqrt(l / (g * (math.sin(theta_rad) + (m * g * math.cos(theta_rad)) / (m * g))))\n",
    "    return T_period\n",
    "T_period = calculate_period(m, theta, l, g)\n",
    "print(f\"The period of the motion is: {T_period:.2f} s\")\n",
    "def calculate_energy(m, theta, l, g):\n",
    "    theta_rad = math.radians(theta)\n",
    "    potential_energy = m * g * l * (1 - math.cos(theta_rad))\n",
    "    kinetic_energy = 0.5 * m * (g * l * math.sin(theta_rad))**2\n",
    "    total_energy = potential_energy + kinetic_energy\n",
    "    return total_energy\n",
    "total_energy = calculate_energy(m, theta, l, g)\n",
    "print(f\"The total mechanical energy is: {total_energy:.2f} J\")\n"
   ]
  }
 ],
 "metadata": {
  "language_info": {
   "name": "python"
  }
 },
 "nbformat": 4,
 "nbformat_minor": 5
}
